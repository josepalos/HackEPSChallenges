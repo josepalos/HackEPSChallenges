{
 "cells": [
  {
   "cell_type": "code",
   "execution_count": 1,
   "metadata": {},
   "outputs": [],
   "source": [
    "from collections import Counter\n",
    "\n",
    "import numpy as np\n",
    "\n",
    "from sklearn.pipeline import Pipeline\n",
    "from sklearn.datasets import fetch_openml\n",
    "from sklearn.preprocessing import StandardScaler\n",
    "from sklearn.ensemble import RandomForestClassifier\n",
    "from sklearn.model_selection import train_test_split\n",
    "from sklearn.base import BaseEstimator, TransformerMixin\n",
    "from sklearn.metrics import confusion_matrix, classification_report\n",
    "\n",
    "import matplotlib.pyplot as plt"
   ]
  },
  {
   "cell_type": "code",
   "execution_count": 2,
   "metadata": {},
   "outputs": [],
   "source": [
    "x, y = fetch_openml('mnist_784', return_X_y=True)\n",
    "y = y.astype(np.int32)"
   ]
  },
  {
   "cell_type": "code",
   "execution_count": 3,
   "metadata": {},
   "outputs": [
    {
     "name": "stdout",
     "output_type": "stream",
     "text": [
      "Total images 70000, Image size in pixels 784\n"
     ]
    }
   ],
   "source": [
    "print('Total images {}, Image size in pixels {}'.format(*x.shape))"
   ]
  },
  {
   "cell_type": "code",
   "execution_count": 4,
   "metadata": {},
   "outputs": [
    {
     "data": {
      "image/png": "[encoded data removed]",
      "text/plain": [
       "<Figure size 720x720 with 10 Axes>"
      ]
     },
     "metadata": {
      "needs_background": "light"
     },
     "output_type": "display_data"
    }
   ],
   "source": [
    "cols = 10\n",
    "rows = 1\n",
    "plt.figure(figsize=(10, 10))\n",
    "for l in range(10): # Digits from 0 to 9\n",
    "    plt.subplot(rows, cols, l + 1)\n",
    "    l_digits = x[y == l]\n",
    "    idx = np.random.randint(0, high=l_digits.shape[0], size=1)\n",
    "    \n",
    "    im = l_digits[idx]\n",
    "    im = im.astype(np.float32) / 255.\n",
    "    im = im.reshape(28, 28)\n",
    "  \n",
    "    plt.title(l)\n",
    "    plt.imshow(im, cmap='binary')\n",
    "    plt.axis('off')"
   ]
  },
  {
   "cell_type": "markdown",
   "metadata": {},
   "source": [
    "# Train"
   ]
  },
  {
   "cell_type": "code",
   "execution_count": 5,
   "metadata": {},
   "outputs": [],
   "source": [
    "# Create two data sets, one for training and the other one to evaluate the \n",
    "# resulting model\n",
    "x_train, x_test, y_train, y_test = train_test_split(x, y, \n",
    "                                                    test_size=.33, \n",
    "                                                    random_state=42)"
   ]
  },
  {
   "cell_type": "code",
   "execution_count": 6,
   "metadata": {},
   "outputs": [],
   "source": [
    "# We can define custom transformers of pipelines\n",
    "class ImageScaler(BaseEstimator, TransformerMixin):\n",
    "    def __init__(self, scale_factor):\n",
    "        self.scale_factor = scale_factor\n",
    "\n",
    "    def fit(self, x, y=None):\n",
    "        return self\n",
    "  \n",
    "    def transform(self, x):\n",
    "        x = x.astype(np.float64)\n",
    "        x = x / float(self.scale_factor)\n",
    "        return x\n",
    "\n",
    "preprocessing_pipeline = Pipeline([('scale', ImageScaler(255)), \n",
    "                                   ('standardize', StandardScaler())])\n"
   ]
  },
  {
   "cell_type": "code",
   "execution_count": 7,
   "metadata": {},
   "outputs": [],
   "source": [
    "# Apply the transformation\n",
    "# Note: That we also fit the pipeline here, this is because\n",
    "# we want the StandardScaler to learn the mean and std deviation\n",
    "# of the training set\n",
    "x_train_prep = preprocessing_pipeline.fit_transform(x_train)"
   ]
  },
  {
   "cell_type": "code",
   "execution_count": 8,
   "metadata": {},
   "outputs": [
    {
     "data": {
      "text/plain": [
       "RandomForestClassifier(bootstrap=True, class_weight=None, criterion='gini',\n",
       "                       max_depth=10, max_features='auto', max_leaf_nodes=None,\n",
       "                       min_impurity_decrease=0.0, min_impurity_split=None,\n",
       "                       min_samples_leaf=1, min_samples_split=2,\n",
       "                       min_weight_fraction_leaf=0.0, n_estimators=20,\n",
       "                       n_jobs=None, oob_score=False, random_state=None,\n",
       "                       verbose=0, warm_start=False)"
      ]
     },
     "execution_count": 8,
     "metadata": {},
     "output_type": "execute_result"
    }
   ],
   "source": [
    "# Train the model\n",
    "rnd_forest = RandomForestClassifier(n_estimators=20, max_depth=10)\n",
    "rnd_forest.fit(x_train_prep, y_train)"
   ]
  },
  {
   "cell_type": "markdown",
   "metadata": {},
   "source": [
    "# Evaluate the model"
   ]
  },
  {
   "cell_type": "code",
   "execution_count": 9,
   "metadata": {},
   "outputs": [],
   "source": [
    "# Note: Here we only call transform because we are using the mean and std\n",
    "# learned from the training set\n",
    "x_test_prep = preprocessing_pipeline.transform(x_test)"
   ]
  },
  {
   "cell_type": "code",
   "execution_count": 10,
   "metadata": {},
   "outputs": [],
   "source": [
    "# Make predictions\n",
    "y_pred = rnd_forest.predict(x_test_prep)"
   ]
  },
  {
   "cell_type": "code",
   "execution_count": 11,
   "metadata": {},
   "outputs": [
    {
     "name": "stdout",
     "output_type": "stream",
     "text": [
      "              precision    recall  f1-score   support\n",
      "\n",
      "           0       0.97      0.98      0.97      2267\n",
      "           1       0.95      0.98      0.97      2603\n",
      "           2       0.93      0.94      0.94      2350\n",
      "           3       0.93      0.90      0.91      2383\n",
      "           4       0.93      0.92      0.93      2144\n",
      "           5       0.94      0.92      0.93      2107\n",
      "           6       0.96      0.96      0.96      2294\n",
      "           7       0.94      0.93      0.94      2455\n",
      "           8       0.92      0.90      0.91      2196\n",
      "           9       0.88      0.91      0.89      2301\n",
      "\n",
      "    accuracy                           0.94     23100\n",
      "   macro avg       0.94      0.93      0.93     23100\n",
      "weighted avg       0.94      0.94      0.94     23100\n",
      "\n"
     ]
    },
    {
     "data": {
      "image/png": "[encoded data removed]",
      "text/plain": [
       "<Figure size 432x288 with 2 Axes>"
      ]
     },
     "metadata": {
      "needs_background": "light"
     },
     "output_type": "display_data"
    }
   ],
   "source": [
    "def plot_confusion_matrix(y_true, y_pred,\n",
    "                          cmap=plt.cm.Blues):\n",
    "\n",
    "    title = 'Confusion matrix'\n",
    "    cm = confusion_matrix(y_true, y_pred)\n",
    "    cm = cm.astype('float') / cm.sum(axis=1)[:, np.newaxis]\n",
    "      \n",
    "    fig, ax = plt.subplots()\n",
    "    im = ax.imshow(cm, interpolation='nearest', cmap=cmap)\n",
    "    ax.figure.colorbar(im, ax=ax)\n",
    "    ax.set(xticks=np.arange(cm.shape[1]),\n",
    "           yticks=np.arange(cm.shape[0]),\n",
    "           title=title,\n",
    "           ylabel='True label',\n",
    "           xlabel='Predicted label')\n",
    "\n",
    "    fig.tight_layout()\n",
    "\n",
    "print(classification_report(y_test, y_pred))\n",
    "plot_confusion_matrix(y_test, y_pred)\n",
    "plt.show()"
   ]
  }
 ],
 "metadata": {
  "kernelspec": {
   "display_name": "Python 3",
   "language": "python",
   "name": "python3"
  },
  "language_info": {
   "codemirror_mode": {
    "name": "ipython",
    "version": 3
   },
   "file_extension": ".py",
   "mimetype": "text/x-python",
   "name": "python",
   "nbconvert_exporter": "python",
   "pygments_lexer": "ipython3",
   "version": "3.7.3"
  }
 },
 "nbformat": 4,
 "nbformat_minor": 2
}
